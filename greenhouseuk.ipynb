{
 "metadata": {
  "language_info": {
   "codemirror_mode": {
    "name": "ipython",
    "version": 3
   },
   "file_extension": ".py",
   "mimetype": "text/x-python",
   "name": "python",
   "nbconvert_exporter": "python",
   "pygments_lexer": "ipython3",
   "version": "3.8.8"
  },
  "orig_nbformat": 2,
  "kernelspec": {
   "name": "python388jvsc74a57bd005906fb634268bda8792aa40248e648de9f5f715d813eba93f5793438b333358",
   "display_name": "Python 3.8.8 64-bit ('base': conda)"
  }
 },
 "nbformat": 4,
 "nbformat_minor": 2,
 "cells": [
  {
   "cell_type": "code",
   "execution_count": 1,
   "metadata": {},
   "outputs": [],
   "source": [
    "import csv\n",
    "import gmaps\n",
    "import numpy as np\n",
    "import pandas as pd\n",
    "import requests\n",
    "from scipy import stats as st\n",
    "from matplotlib import pyplot as plt\n",
    "from datetime import datetime as dt\n"
   ]
  },
  {
   "cell_type": "code",
   "execution_count": 44,
   "metadata": {},
   "outputs": [],
   "source": [
    "file1 = \"Resources/ukemmission.csv\"\n",
    "file2 = \"Resources/ukpopulation.csv\"\n",
    "emi_df = pd.read_csv(file1)\n",
    "pop_df = pd.read_csv(file2)\n",
    "pop_df.head()\n",
    "pop_df.set_index(\"Year\", inplace = True)\n",
    "emi_df.set_index(\"Year\", inplace = True)"
   ]
  },
  {
   "cell_type": "code",
   "execution_count": 45,
   "metadata": {},
   "outputs": [
    {
     "output_type": "execute_result",
     "data": {
      "text/plain": [
       "      key  POPULATION/1000\n",
       "Year                      \n",
       "1990    1            57237\n",
       "1991    2            57439\n",
       "1992    3            57585\n",
       "1993    4            57714\n",
       "1994    5            57862\n",
       "1995    6            58025\n",
       "1996    7            58164\n",
       "1997    8            58314\n",
       "1998    9            58475\n",
       "1999   10            58684\n",
       "2000   11            58886\n",
       "2001   12            59113\n",
       "2002   13            59366\n",
       "2003   14            59637\n",
       "2004   15            59950\n",
       "2005   16            60413\n",
       "2006   17            60827\n",
       "2007   18            61319\n",
       "2008   19            61824\n",
       "2009   20            62260\n",
       "2010   21            62759\n",
       "2011   22            63285\n",
       "2012   23            63705\n",
       "2013   24            64106\n",
       "2014   25            64597\n",
       "2015   26            65110\n",
       "2016   27            65573\n",
       "2017   28            66040\n",
       "2018   29            66436\n",
       "2019   30            66797"
      ],
      "text/html": "<div>\n<style scoped>\n    .dataframe tbody tr th:only-of-type {\n        vertical-align: middle;\n    }\n\n    .dataframe tbody tr th {\n        vertical-align: top;\n    }\n\n    .dataframe thead th {\n        text-align: right;\n    }\n</style>\n<table border=\"1\" class=\"dataframe\">\n  <thead>\n    <tr style=\"text-align: right;\">\n      <th></th>\n      <th>key</th>\n      <th>POPULATION/1000</th>\n    </tr>\n    <tr>\n      <th>Year</th>\n      <th></th>\n      <th></th>\n    </tr>\n  </thead>\n  <tbody>\n    <tr>\n      <th>1990</th>\n      <td>1</td>\n      <td>57237</td>\n    </tr>\n    <tr>\n      <th>1991</th>\n      <td>2</td>\n      <td>57439</td>\n    </tr>\n    <tr>\n      <th>1992</th>\n      <td>3</td>\n      <td>57585</td>\n    </tr>\n    <tr>\n      <th>1993</th>\n      <td>4</td>\n      <td>57714</td>\n    </tr>\n    <tr>\n      <th>1994</th>\n      <td>5</td>\n      <td>57862</td>\n    </tr>\n    <tr>\n      <th>1995</th>\n      <td>6</td>\n      <td>58025</td>\n    </tr>\n    <tr>\n      <th>1996</th>\n      <td>7</td>\n      <td>58164</td>\n    </tr>\n    <tr>\n      <th>1997</th>\n      <td>8</td>\n      <td>58314</td>\n    </tr>\n    <tr>\n      <th>1998</th>\n      <td>9</td>\n      <td>58475</td>\n    </tr>\n    <tr>\n      <th>1999</th>\n      <td>10</td>\n      <td>58684</td>\n    </tr>\n    <tr>\n      <th>2000</th>\n      <td>11</td>\n      <td>58886</td>\n    </tr>\n    <tr>\n      <th>2001</th>\n      <td>12</td>\n      <td>59113</td>\n    </tr>\n    <tr>\n      <th>2002</th>\n      <td>13</td>\n      <td>59366</td>\n    </tr>\n    <tr>\n      <th>2003</th>\n      <td>14</td>\n      <td>59637</td>\n    </tr>\n    <tr>\n      <th>2004</th>\n      <td>15</td>\n      <td>59950</td>\n    </tr>\n    <tr>\n      <th>2005</th>\n      <td>16</td>\n      <td>60413</td>\n    </tr>\n    <tr>\n      <th>2006</th>\n      <td>17</td>\n      <td>60827</td>\n    </tr>\n    <tr>\n      <th>2007</th>\n      <td>18</td>\n      <td>61319</td>\n    </tr>\n    <tr>\n      <th>2008</th>\n      <td>19</td>\n      <td>61824</td>\n    </tr>\n    <tr>\n      <th>2009</th>\n      <td>20</td>\n      <td>62260</td>\n    </tr>\n    <tr>\n      <th>2010</th>\n      <td>21</td>\n      <td>62759</td>\n    </tr>\n    <tr>\n      <th>2011</th>\n      <td>22</td>\n      <td>63285</td>\n    </tr>\n    <tr>\n      <th>2012</th>\n      <td>23</td>\n      <td>63705</td>\n    </tr>\n    <tr>\n      <th>2013</th>\n      <td>24</td>\n      <td>64106</td>\n    </tr>\n    <tr>\n      <th>2014</th>\n      <td>25</td>\n      <td>64597</td>\n    </tr>\n    <tr>\n      <th>2015</th>\n      <td>26</td>\n      <td>65110</td>\n    </tr>\n    <tr>\n      <th>2016</th>\n      <td>27</td>\n      <td>65573</td>\n    </tr>\n    <tr>\n      <th>2017</th>\n      <td>28</td>\n      <td>66040</td>\n    </tr>\n    <tr>\n      <th>2018</th>\n      <td>29</td>\n      <td>66436</td>\n    </tr>\n    <tr>\n      <th>2019</th>\n      <td>30</td>\n      <td>66797</td>\n    </tr>\n  </tbody>\n</table>\n</div>"
     },
     "metadata": {},
     "execution_count": 45
    }
   ],
   "source": [
    "# pop_df['Year'] = pop_df['Year'].dt.year\n",
    "# pd.to_datetime(pop_df['Year'], format= '%Y')\n",
    "\n",
    "# pop_df['Year'] = pop_df['Year'].dt.year\n",
    "\n",
    "\n",
    "\n",
    "pop_df['key']=[1,2,3,4,5,6,7,8,9,10,11,12,13,14,15,16,17,18,19,20,21,22,23,24,25,26,27,28,29,30]\n",
    "\n",
    "pop_df= pop_df[['key', 'POPULATION/1000']]\n",
    "\n",
    "pop_df\n",
    "\n"
   ]
  },
  {
   "cell_type": "code",
   "execution_count": 46,
   "metadata": {},
   "outputs": [
    {
     "output_type": "execute_result",
     "data": {
      "text/plain": [
       "                  1990   1991   1992   1993   1994   1995   1996   1997  \\\n",
       "Year                                                                      \n",
       "CO2              608.3  615.6  599.0  584.0  579.6  571.2  591.7  565.0   \n",
       "CH4              133.9  134.6  134.4  133.0  126.1  127.7  126.9  124.8   \n",
       "N2O               49.6   49.7   44.8   40.6   41.2   39.9   39.9   40.2   \n",
       "HFC               14.4   15.0   15.6   16.4   17.3   18.6   19.5   21.7   \n",
       "PFC                1.7    1.4    0.7    0.6    0.6    0.6    0.6    0.5   \n",
       "SF6                1.3    1.4    1.4    1.2    1.3    1.3    1.4    1.3   \n",
       "NF3                0.0    0.0    0.0    0.0    0.0    0.0    0.0    0.0   \n",
       "Total-emissions  809.1  817.7  795.9  775.8  766.0  759.3  780.0  753.5   \n",
       "\n",
       "                  1998   1999  ...   2010   2011   2012   2013   2014   2015  \\\n",
       "Year                           ...                                             \n",
       "CO2              569.3  563.3  ...  508.0  465.2  483.3  473.2  434.1  418.3   \n",
       "CH4              121.2  115.6  ...   66.9   64.3   62.7   58.7   56.7   55.8   \n",
       "N2O               40.1   30.5  ...   22.8   22.0   21.9   21.8   22.5   22.0   \n",
       "HFC               18.0    9.7  ...   11.8   12.4   13.0   13.4   13.6   13.6   \n",
       "PFC                0.5    0.5  ...    0.3    0.4    0.3    0.3    0.3    0.3   \n",
       "SF6                1.4    1.5  ...    0.7    0.6    0.6    0.5    0.5    0.5   \n",
       "NF3                0.0    0.0  ...    0.0    0.0    0.0    0.0    0.0    0.0   \n",
       "Total-emissions  750.5  721.1  ...  610.5  564.9  581.8  567.9  527.6  510.5   \n",
       "\n",
       "                  2016   2017   2018   2019  \n",
       "Year                                         \n",
       "CO2              395.1  382.9  377.7  365.1  \n",
       "CH4               54.1   54.6   54.3   54.0  \n",
       "N2O               21.8   22.3   22.1   22.2  \n",
       "HFC               13.6   13.5   13.1   12.5  \n",
       "PFC                0.4    0.5    0.3    0.3  \n",
       "SF6                0.5    0.5    0.6    0.6  \n",
       "NF3                0.0    0.0    0.0    0.0  \n",
       "Total-emissions  485.4  474.2  468.1  454.8  \n",
       "\n",
       "[8 rows x 30 columns]"
      ],
      "text/html": "<div>\n<style scoped>\n    .dataframe tbody tr th:only-of-type {\n        vertical-align: middle;\n    }\n\n    .dataframe tbody tr th {\n        vertical-align: top;\n    }\n\n    .dataframe thead th {\n        text-align: right;\n    }\n</style>\n<table border=\"1\" class=\"dataframe\">\n  <thead>\n    <tr style=\"text-align: right;\">\n      <th></th>\n      <th>1990</th>\n      <th>1991</th>\n      <th>1992</th>\n      <th>1993</th>\n      <th>1994</th>\n      <th>1995</th>\n      <th>1996</th>\n      <th>1997</th>\n      <th>1998</th>\n      <th>1999</th>\n      <th>...</th>\n      <th>2010</th>\n      <th>2011</th>\n      <th>2012</th>\n      <th>2013</th>\n      <th>2014</th>\n      <th>2015</th>\n      <th>2016</th>\n      <th>2017</th>\n      <th>2018</th>\n      <th>2019</th>\n    </tr>\n    <tr>\n      <th>Year</th>\n      <th></th>\n      <th></th>\n      <th></th>\n      <th></th>\n      <th></th>\n      <th></th>\n      <th></th>\n      <th></th>\n      <th></th>\n      <th></th>\n      <th></th>\n      <th></th>\n      <th></th>\n      <th></th>\n      <th></th>\n      <th></th>\n      <th></th>\n      <th></th>\n      <th></th>\n      <th></th>\n      <th></th>\n    </tr>\n  </thead>\n  <tbody>\n    <tr>\n      <th>CO2</th>\n      <td>608.3</td>\n      <td>615.6</td>\n      <td>599.0</td>\n      <td>584.0</td>\n      <td>579.6</td>\n      <td>571.2</td>\n      <td>591.7</td>\n      <td>565.0</td>\n      <td>569.3</td>\n      <td>563.3</td>\n      <td>...</td>\n      <td>508.0</td>\n      <td>465.2</td>\n      <td>483.3</td>\n      <td>473.2</td>\n      <td>434.1</td>\n      <td>418.3</td>\n      <td>395.1</td>\n      <td>382.9</td>\n      <td>377.7</td>\n      <td>365.1</td>\n    </tr>\n    <tr>\n      <th>CH4</th>\n      <td>133.9</td>\n      <td>134.6</td>\n      <td>134.4</td>\n      <td>133.0</td>\n      <td>126.1</td>\n      <td>127.7</td>\n      <td>126.9</td>\n      <td>124.8</td>\n      <td>121.2</td>\n      <td>115.6</td>\n      <td>...</td>\n      <td>66.9</td>\n      <td>64.3</td>\n      <td>62.7</td>\n      <td>58.7</td>\n      <td>56.7</td>\n      <td>55.8</td>\n      <td>54.1</td>\n      <td>54.6</td>\n      <td>54.3</td>\n      <td>54.0</td>\n    </tr>\n    <tr>\n      <th>N2O</th>\n      <td>49.6</td>\n      <td>49.7</td>\n      <td>44.8</td>\n      <td>40.6</td>\n      <td>41.2</td>\n      <td>39.9</td>\n      <td>39.9</td>\n      <td>40.2</td>\n      <td>40.1</td>\n      <td>30.5</td>\n      <td>...</td>\n      <td>22.8</td>\n      <td>22.0</td>\n      <td>21.9</td>\n      <td>21.8</td>\n      <td>22.5</td>\n      <td>22.0</td>\n      <td>21.8</td>\n      <td>22.3</td>\n      <td>22.1</td>\n      <td>22.2</td>\n    </tr>\n    <tr>\n      <th>HFC</th>\n      <td>14.4</td>\n      <td>15.0</td>\n      <td>15.6</td>\n      <td>16.4</td>\n      <td>17.3</td>\n      <td>18.6</td>\n      <td>19.5</td>\n      <td>21.7</td>\n      <td>18.0</td>\n      <td>9.7</td>\n      <td>...</td>\n      <td>11.8</td>\n      <td>12.4</td>\n      <td>13.0</td>\n      <td>13.4</td>\n      <td>13.6</td>\n      <td>13.6</td>\n      <td>13.6</td>\n      <td>13.5</td>\n      <td>13.1</td>\n      <td>12.5</td>\n    </tr>\n    <tr>\n      <th>PFC</th>\n      <td>1.7</td>\n      <td>1.4</td>\n      <td>0.7</td>\n      <td>0.6</td>\n      <td>0.6</td>\n      <td>0.6</td>\n      <td>0.6</td>\n      <td>0.5</td>\n      <td>0.5</td>\n      <td>0.5</td>\n      <td>...</td>\n      <td>0.3</td>\n      <td>0.4</td>\n      <td>0.3</td>\n      <td>0.3</td>\n      <td>0.3</td>\n      <td>0.3</td>\n      <td>0.4</td>\n      <td>0.5</td>\n      <td>0.3</td>\n      <td>0.3</td>\n    </tr>\n    <tr>\n      <th>SF6</th>\n      <td>1.3</td>\n      <td>1.4</td>\n      <td>1.4</td>\n      <td>1.2</td>\n      <td>1.3</td>\n      <td>1.3</td>\n      <td>1.4</td>\n      <td>1.3</td>\n      <td>1.4</td>\n      <td>1.5</td>\n      <td>...</td>\n      <td>0.7</td>\n      <td>0.6</td>\n      <td>0.6</td>\n      <td>0.5</td>\n      <td>0.5</td>\n      <td>0.5</td>\n      <td>0.5</td>\n      <td>0.5</td>\n      <td>0.6</td>\n      <td>0.6</td>\n    </tr>\n    <tr>\n      <th>NF3</th>\n      <td>0.0</td>\n      <td>0.0</td>\n      <td>0.0</td>\n      <td>0.0</td>\n      <td>0.0</td>\n      <td>0.0</td>\n      <td>0.0</td>\n      <td>0.0</td>\n      <td>0.0</td>\n      <td>0.0</td>\n      <td>...</td>\n      <td>0.0</td>\n      <td>0.0</td>\n      <td>0.0</td>\n      <td>0.0</td>\n      <td>0.0</td>\n      <td>0.0</td>\n      <td>0.0</td>\n      <td>0.0</td>\n      <td>0.0</td>\n      <td>0.0</td>\n    </tr>\n    <tr>\n      <th>Total-emissions</th>\n      <td>809.1</td>\n      <td>817.7</td>\n      <td>795.9</td>\n      <td>775.8</td>\n      <td>766.0</td>\n      <td>759.3</td>\n      <td>780.0</td>\n      <td>753.5</td>\n      <td>750.5</td>\n      <td>721.1</td>\n      <td>...</td>\n      <td>610.5</td>\n      <td>564.9</td>\n      <td>581.8</td>\n      <td>567.9</td>\n      <td>527.6</td>\n      <td>510.5</td>\n      <td>485.4</td>\n      <td>474.2</td>\n      <td>468.1</td>\n      <td>454.8</td>\n    </tr>\n  </tbody>\n</table>\n<p>8 rows × 30 columns</p>\n</div>"
     },
     "metadata": {},
     "execution_count": 46
    }
   ],
   "source": [
    "emi_df"
   ]
  },
  {
   "cell_type": "code",
   "execution_count": 47,
   "metadata": {},
   "outputs": [
    {
     "output_type": "execute_result",
     "data": {
      "text/plain": [
       "Year  key    CO2    CH4   N2O   HFC  PFC  SF6  NF3  Total-emissions\n",
       "1990    1  608.3  133.9  49.6  14.4  1.7  1.3  0.0            809.1\n",
       "1991    2  615.6  134.6  49.7  15.0  1.4  1.4  0.0            817.7\n",
       "1992    3  599.0  134.4  44.8  15.6  0.7  1.4  0.0            795.9\n",
       "1993    4  584.0  133.0  40.6  16.4  0.6  1.2  0.0            775.8\n",
       "1994    5  579.6  126.1  41.2  17.3  0.6  1.3  0.0            766.0"
      ],
      "text/html": "<div>\n<style scoped>\n    .dataframe tbody tr th:only-of-type {\n        vertical-align: middle;\n    }\n\n    .dataframe tbody tr th {\n        vertical-align: top;\n    }\n\n    .dataframe thead th {\n        text-align: right;\n    }\n</style>\n<table border=\"1\" class=\"dataframe\">\n  <thead>\n    <tr style=\"text-align: right;\">\n      <th>Year</th>\n      <th>key</th>\n      <th>CO2</th>\n      <th>CH4</th>\n      <th>N2O</th>\n      <th>HFC</th>\n      <th>PFC</th>\n      <th>SF6</th>\n      <th>NF3</th>\n      <th>Total-emissions</th>\n    </tr>\n  </thead>\n  <tbody>\n    <tr>\n      <th>1990</th>\n      <td>1</td>\n      <td>608.3</td>\n      <td>133.9</td>\n      <td>49.6</td>\n      <td>14.4</td>\n      <td>1.7</td>\n      <td>1.3</td>\n      <td>0.0</td>\n      <td>809.1</td>\n    </tr>\n    <tr>\n      <th>1991</th>\n      <td>2</td>\n      <td>615.6</td>\n      <td>134.6</td>\n      <td>49.7</td>\n      <td>15.0</td>\n      <td>1.4</td>\n      <td>1.4</td>\n      <td>0.0</td>\n      <td>817.7</td>\n    </tr>\n    <tr>\n      <th>1992</th>\n      <td>3</td>\n      <td>599.0</td>\n      <td>134.4</td>\n      <td>44.8</td>\n      <td>15.6</td>\n      <td>0.7</td>\n      <td>1.4</td>\n      <td>0.0</td>\n      <td>795.9</td>\n    </tr>\n    <tr>\n      <th>1993</th>\n      <td>4</td>\n      <td>584.0</td>\n      <td>133.0</td>\n      <td>40.6</td>\n      <td>16.4</td>\n      <td>0.6</td>\n      <td>1.2</td>\n      <td>0.0</td>\n      <td>775.8</td>\n    </tr>\n    <tr>\n      <th>1994</th>\n      <td>5</td>\n      <td>579.6</td>\n      <td>126.1</td>\n      <td>41.2</td>\n      <td>17.3</td>\n      <td>0.6</td>\n      <td>1.3</td>\n      <td>0.0</td>\n      <td>766.0</td>\n    </tr>\n  </tbody>\n</table>\n</div>"
     },
     "metadata": {},
     "execution_count": 47
    }
   ],
   "source": [
    "emis_df = emi_df.T\n",
    "\n",
    "emis_df['key']=[1,2,3,4,5,6,7,8,9,10,11,12,13,14,15,16,17,18,19,20,21,22,23,24,25,26,27,28,29,30]\n",
    "\n",
    "emis_df = emis_df[['key','CO2','CH4','N2O','HFC','PFC','SF6','NF3','Total-emissions']]\n",
    "\n",
    "emis_df.head()"
   ]
  },
  {
   "cell_type": "code",
   "execution_count": 73,
   "metadata": {},
   "outputs": [
    {
     "output_type": "execute_result",
     "data": {
      "text/plain": [
       "   key    CO2    CH4   N2O   HFC  PFC  SF6  NF3  Total-emissions  \\\n",
       "0    1  608.3  133.9  49.6  14.4  1.7  1.3  0.0            809.1   \n",
       "1    2  615.6  134.6  49.7  15.0  1.4  1.4  0.0            817.7   \n",
       "2    3  599.0  134.4  44.8  15.6  0.7  1.4  0.0            795.9   \n",
       "3    4  584.0  133.0  40.6  16.4  0.6  1.2  0.0            775.8   \n",
       "4    5  579.6  126.1  41.2  17.3  0.6  1.3  0.0            766.0   \n",
       "\n",
       "   POPULATION/1000  \n",
       "0            57237  \n",
       "1            57439  \n",
       "2            57585  \n",
       "3            57714  \n",
       "4            57862  "
      ],
      "text/html": "<div>\n<style scoped>\n    .dataframe tbody tr th:only-of-type {\n        vertical-align: middle;\n    }\n\n    .dataframe tbody tr th {\n        vertical-align: top;\n    }\n\n    .dataframe thead th {\n        text-align: right;\n    }\n</style>\n<table border=\"1\" class=\"dataframe\">\n  <thead>\n    <tr style=\"text-align: right;\">\n      <th></th>\n      <th>key</th>\n      <th>CO2</th>\n      <th>CH4</th>\n      <th>N2O</th>\n      <th>HFC</th>\n      <th>PFC</th>\n      <th>SF6</th>\n      <th>NF3</th>\n      <th>Total-emissions</th>\n      <th>POPULATION/1000</th>\n    </tr>\n  </thead>\n  <tbody>\n    <tr>\n      <th>0</th>\n      <td>1</td>\n      <td>608.3</td>\n      <td>133.9</td>\n      <td>49.6</td>\n      <td>14.4</td>\n      <td>1.7</td>\n      <td>1.3</td>\n      <td>0.0</td>\n      <td>809.1</td>\n      <td>57237</td>\n    </tr>\n    <tr>\n      <th>1</th>\n      <td>2</td>\n      <td>615.6</td>\n      <td>134.6</td>\n      <td>49.7</td>\n      <td>15.0</td>\n      <td>1.4</td>\n      <td>1.4</td>\n      <td>0.0</td>\n      <td>817.7</td>\n      <td>57439</td>\n    </tr>\n    <tr>\n      <th>2</th>\n      <td>3</td>\n      <td>599.0</td>\n      <td>134.4</td>\n      <td>44.8</td>\n      <td>15.6</td>\n      <td>0.7</td>\n      <td>1.4</td>\n      <td>0.0</td>\n      <td>795.9</td>\n      <td>57585</td>\n    </tr>\n    <tr>\n      <th>3</th>\n      <td>4</td>\n      <td>584.0</td>\n      <td>133.0</td>\n      <td>40.6</td>\n      <td>16.4</td>\n      <td>0.6</td>\n      <td>1.2</td>\n      <td>0.0</td>\n      <td>775.8</td>\n      <td>57714</td>\n    </tr>\n    <tr>\n      <th>4</th>\n      <td>5</td>\n      <td>579.6</td>\n      <td>126.1</td>\n      <td>41.2</td>\n      <td>17.3</td>\n      <td>0.6</td>\n      <td>1.3</td>\n      <td>0.0</td>\n      <td>766.0</td>\n      <td>57862</td>\n    </tr>\n  </tbody>\n</table>\n</div>"
     },
     "metadata": {},
     "execution_count": 73
    }
   ],
   "source": [
    "ukemi_df = pd.merge(emis_df,pop_df)\n",
    "ukemi_df.head()\n"
   ]
  },
  {
   "cell_type": "code",
   "execution_count": 62,
   "metadata": {},
   "outputs": [
    {
     "output_type": "execute_result",
     "data": {
      "text/plain": [
       "   population  emissions\n",
       "0       57237      809.1\n",
       "1       57439      817.7\n",
       "2       57585      795.9\n",
       "3       57714      775.8\n",
       "4       57862      766.0"
      ],
      "text/html": "<div>\n<style scoped>\n    .dataframe tbody tr th:only-of-type {\n        vertical-align: middle;\n    }\n\n    .dataframe tbody tr th {\n        vertical-align: top;\n    }\n\n    .dataframe thead th {\n        text-align: right;\n    }\n</style>\n<table border=\"1\" class=\"dataframe\">\n  <thead>\n    <tr style=\"text-align: right;\">\n      <th></th>\n      <th>population</th>\n      <th>emissions</th>\n    </tr>\n  </thead>\n  <tbody>\n    <tr>\n      <th>0</th>\n      <td>57237</td>\n      <td>809.1</td>\n    </tr>\n    <tr>\n      <th>1</th>\n      <td>57439</td>\n      <td>817.7</td>\n    </tr>\n    <tr>\n      <th>2</th>\n      <td>57585</td>\n      <td>795.9</td>\n    </tr>\n    <tr>\n      <th>3</th>\n      <td>57714</td>\n      <td>775.8</td>\n    </tr>\n    <tr>\n      <th>4</th>\n      <td>57862</td>\n      <td>766.0</td>\n    </tr>\n  </tbody>\n</table>\n</div>"
     },
     "metadata": {},
     "execution_count": 62
    }
   ],
   "source": [
    "cor_df = ukemi_df[['POPULATION/1000','Total-emissions']]\n",
    "\n",
    "cor_df = cor_df.rename(columns={'POPULATION/1000':'population','Total-emissions':'emissions'})\n",
    "cor_df.head()"
   ]
  },
  {
   "cell_type": "code",
   "execution_count": 64,
   "metadata": {},
   "outputs": [
    {
     "output_type": "stream",
     "name": "stdout",
     "text": [
      "Shape:  (30, 1) (30, 1)\n"
     ]
    }
   ],
   "source": [
    "# Assign the data to X and y\n",
    "# Note: Sklearn requires a two-dimensional array of values\n",
    "# so we use reshape to create this\n",
    "\n",
    "X = cor_df.population.values.reshape(-1, 1)\n",
    "y = cor_df.emissions.values.reshape(-1, 1)\n",
    "\n",
    "print('Shape: ',X.shape,y.shape)\n",
    "# X"
   ]
  },
  {
   "cell_type": "code",
   "execution_count": 65,
   "metadata": {},
   "outputs": [
    {
     "output_type": "execute_result",
     "data": {
      "text/plain": [
       "<matplotlib.collections.PathCollection at 0x13a3afcfac0>"
      ]
     },
     "metadata": {},
     "execution_count": 65
    },
    {
     "output_type": "display_data",
     "data": {
      "text/plain": "<Figure size 432x288 with 1 Axes>",
      "image/svg+xml": "<?xml version=\"1.0\" encoding=\"utf-8\" standalone=\"no\"?>\r\n<!DOCTYPE svg PUBLIC \"-//W3C//DTD SVG 1.1//EN\"\r\n  \"http://www.w3.org/Graphics/SVG/1.1/DTD/svg11.dtd\">\r\n<!-- Created with matplotlib (https://matplotlib.org/) -->\r\n<svg height=\"248.518125pt\" version=\"1.1\" viewBox=\"0 0 375.2875 248.518125\" width=\"375.2875pt\" xmlns=\"http://www.w3.org/2000/svg\" xmlns:xlink=\"http://www.w3.org/1999/xlink\">\r\n <metadata>\r\n  <rdf:RDF xmlns:cc=\"http://creativecommons.org/ns#\" xmlns:dc=\"http://purl.org/dc/elements/1.1/\" xmlns:rdf=\"http://www.w3.org/1999/02/22-rdf-syntax-ns#\">\r\n   <cc:Work>\r\n    <dc:type rdf:resource=\"http://purl.org/dc/dcmitype/StillImage\"/>\r\n    <dc:date>2021-05-26T20:58:06.035362</dc:date>\r\n    <dc:format>image/svg+xml</dc:format>\r\n    <dc:creator>\r\n     <cc:Agent>\r\n      <dc:title>Matplotlib v3.3.4, https://matplotlib.org/</dc:title>\r\n     </cc:Agent>\r\n    </dc:creator>\r\n   </cc:Work>\r\n  </rdf:RDF>\r\n </metadata>\r\n <defs>\r\n  <style type=\"text/css\">*{stroke-linecap:butt;stroke-linejoin:round;}</style>\r\n </defs>\r\n <g id=\"figure_1\">\r\n  <g id=\"patch_1\">\r\n   <path d=\"M 0 248.518125 \r\nL 375.2875 248.518125 \r\nL 375.2875 0 \r\nL 0 0 \r\nz\r\n\" style=\"fill:none;\"/>\r\n  </g>\r\n  <g id=\"axes_1\">\r\n   <g id=\"patch_2\">\r\n    <path d=\"M 33.2875 224.64 \r\nL 368.0875 224.64 \r\nL 368.0875 7.2 \r\nL 33.2875 7.2 \r\nz\r\n\" style=\"fill:#ffffff;\"/>\r\n   </g>\r\n   <g id=\"PathCollection_1\">\r\n    <defs>\r\n     <path d=\"M 0 3 \r\nC 0.795609 3 1.55874 2.683901 2.12132 2.12132 \r\nC 2.683901 1.55874 3 0.795609 3 0 \r\nC 3 -0.795609 2.683901 -1.55874 2.12132 -2.12132 \r\nC 1.55874 -2.683901 0.795609 -3 0 -3 \r\nC -0.795609 -3 -1.55874 -2.683901 -2.12132 -2.12132 \r\nC -2.683901 -1.55874 -3 -0.795609 -3 0 \r\nC -3 0.795609 -2.683901 1.55874 -2.12132 2.12132 \r\nC -1.55874 2.683901 -0.795609 3 0 3 \r\nz\r\n\" id=\"m3738de3701\" style=\"stroke:#1f77b4;\"/>\r\n    </defs>\r\n    <g clip-path=\"url(#p38fc87b458)\">\r\n     <use style=\"fill:#1f77b4;stroke:#1f77b4;\" x=\"48.505682\" xlink:href=\"#m3738de3701\" y=\"21.768082\"/>\r\n     <use style=\"fill:#1f77b4;stroke:#1f77b4;\" x=\"54.936796\" xlink:href=\"#m3738de3701\" y=\"17.083636\"/>\r\n     <use style=\"fill:#1f77b4;stroke:#1f77b4;\" x=\"59.585028\" xlink:href=\"#m3738de3701\" y=\"28.958162\"/>\r\n     <use style=\"fill:#1f77b4;stroke:#1f77b4;\" x=\"63.692026\" xlink:href=\"#m3738de3701\" y=\"39.906693\"/>\r\n     <use style=\"fill:#1f77b4;stroke:#1f77b4;\" x=\"68.403932\" xlink:href=\"#m3738de3701\" y=\"45.244783\"/>\r\n     <use style=\"fill:#1f77b4;stroke:#1f77b4;\" x=\"73.593396\" xlink:href=\"#m3738de3701\" y=\"48.894293\"/>\r\n     <use style=\"fill:#1f77b4;stroke:#1f77b4;\" x=\"78.018767\" xlink:href=\"#m3738de3701\" y=\"37.61894\"/>\r\n     <use style=\"fill:#1f77b4;stroke:#1f77b4;\" x=\"82.794347\" xlink:href=\"#m3738de3701\" y=\"52.05357\"/>\r\n     <use style=\"fill:#1f77b4;stroke:#1f77b4;\" x=\"87.920136\" xlink:href=\"#m3738de3701\" y=\"53.68768\"/>\r\n     <use style=\"fill:#1f77b4;stroke:#1f77b4;\" x=\"94.574111\" xlink:href=\"#m3738de3701\" y=\"69.701948\"/>\r\n     <use style=\"fill:#1f77b4;stroke:#1f77b4;\" x=\"101.005225\" xlink:href=\"#m3738de3701\" y=\"70.410062\"/>\r\n     <use style=\"fill:#1f77b4;stroke:#1f77b4;\" x=\"108.23227\" xlink:href=\"#m3738de3701\" y=\"69.320656\"/>\r\n     <use style=\"fill:#1f77b4;stroke:#1f77b4;\" x=\"116.287082\" xlink:href=\"#m3738de3701\" y=\"80.70495\"/>\r\n     <use style=\"fill:#1f77b4;stroke:#1f77b4;\" x=\"124.914963\" xlink:href=\"#m3738de3701\" y=\"77.327791\"/>\r\n     <use style=\"fill:#1f77b4;stroke:#1f77b4;\" x=\"134.880007\" xlink:href=\"#m3738de3701\" y=\"79.887895\"/>\r\n     <use style=\"fill:#1f77b4;stroke:#1f77b4;\" x=\"149.62063\" xlink:href=\"#m3738de3701\" y=\"84.35446\"/>\r\n     <use style=\"fill:#1f77b4;stroke:#1f77b4;\" x=\"162.801231\" xlink:href=\"#m3738de3701\" y=\"88.657614\"/>\r\n     <use style=\"fill:#1f77b4;stroke:#1f77b4;\" x=\"178.465134\" xlink:href=\"#m3738de3701\" y=\"95.466401\"/>\r\n     <use style=\"fill:#1f77b4;stroke:#1f77b4;\" x=\"194.54292\" xlink:href=\"#m3738de3701\" y=\"107.123046\"/>\r\n     <use style=\"fill:#1f77b4;stroke:#1f77b4;\" x=\"208.42394\" xlink:href=\"#m3738de3701\" y=\"137.680886\"/>\r\n     <use style=\"fill:#1f77b4;stroke:#1f77b4;\" x=\"224.310703\" xlink:href=\"#m3738de3701\" y=\"129.946103\"/>\r\n     <use style=\"fill:#1f77b4;stroke:#1f77b4;\" x=\"241.05707\" xlink:href=\"#m3738de3701\" y=\"154.784561\"/>\r\n     <use style=\"fill:#1f77b4;stroke:#1f77b4;\" x=\"254.428694\" xlink:href=\"#m3738de3701\" y=\"145.57908\"/>\r\n     <use style=\"fill:#1f77b4;stroke:#1f77b4;\" x=\"267.195412\" xlink:href=\"#m3738de3701\" y=\"153.150452\"/>\r\n     <use style=\"fill:#1f77b4;stroke:#1f77b4;\" x=\"282.827477\" xlink:href=\"#m3738de3701\" y=\"175.101984\"/>\r\n     <use style=\"fill:#1f77b4;stroke:#1f77b4;\" x=\"299.159961\" xlink:href=\"#m3738de3701\" y=\"184.416405\"/>\r\n     <use style=\"fill:#1f77b4;stroke:#1f77b4;\" x=\"313.900585\" xlink:href=\"#m3738de3701\" y=\"198.088451\"/>\r\n     <use style=\"fill:#1f77b4;stroke:#1f77b4;\" x=\"328.768557\" xlink:href=\"#m3738de3701\" y=\"204.189125\"/>\r\n     <use style=\"fill:#1f77b4;stroke:#1f77b4;\" x=\"341.376089\" xlink:href=\"#m3738de3701\" y=\"207.511813\"/>\r\n     <use style=\"fill:#1f77b4;stroke:#1f77b4;\" x=\"352.869318\" xlink:href=\"#m3738de3701\" y=\"214.756364\"/>\r\n    </g>\r\n   </g>\r\n   <g id=\"matplotlib.axis_1\">\r\n    <g id=\"xtick_1\">\r\n     <g id=\"line2d_1\">\r\n      <defs>\r\n       <path d=\"M 0 0 \r\nL 0 3.5 \r\n\" id=\"mf70bfbe90d\" style=\"stroke:#000000;stroke-width:0.8;\"/>\r\n      </defs>\r\n      <g>\r\n       <use style=\"stroke:#000000;stroke-width:0.8;\" x=\"72.797466\" xlink:href=\"#mf70bfbe90d\" y=\"224.64\"/>\r\n      </g>\r\n     </g>\r\n     <g id=\"text_1\">\r\n      <!-- 58000 -->\r\n      <g transform=\"translate(56.891216 239.238437)scale(0.1 -0.1)\">\r\n       <defs>\r\n        <path d=\"M 10.796875 72.90625 \r\nL 49.515625 72.90625 \r\nL 49.515625 64.59375 \r\nL 19.828125 64.59375 \r\nL 19.828125 46.734375 \r\nQ 21.96875 47.46875 24.109375 47.828125 \r\nQ 26.265625 48.1875 28.421875 48.1875 \r\nQ 40.625 48.1875 47.75 41.5 \r\nQ 54.890625 34.8125 54.890625 23.390625 \r\nQ 54.890625 11.625 47.5625 5.09375 \r\nQ 40.234375 -1.421875 26.90625 -1.421875 \r\nQ 22.3125 -1.421875 17.546875 -0.640625 \r\nQ 12.796875 0.140625 7.71875 1.703125 \r\nL 7.71875 11.625 \r\nQ 12.109375 9.234375 16.796875 8.0625 \r\nQ 21.484375 6.890625 26.703125 6.890625 \r\nQ 35.15625 6.890625 40.078125 11.328125 \r\nQ 45.015625 15.765625 45.015625 23.390625 \r\nQ 45.015625 31 40.078125 35.4375 \r\nQ 35.15625 39.890625 26.703125 39.890625 \r\nQ 22.75 39.890625 18.8125 39.015625 \r\nQ 14.890625 38.140625 10.796875 36.28125 \r\nz\r\n\" id=\"DejaVuSans-53\"/>\r\n        <path d=\"M 31.78125 34.625 \r\nQ 24.75 34.625 20.71875 30.859375 \r\nQ 16.703125 27.09375 16.703125 20.515625 \r\nQ 16.703125 13.921875 20.71875 10.15625 \r\nQ 24.75 6.390625 31.78125 6.390625 \r\nQ 38.8125 6.390625 42.859375 10.171875 \r\nQ 46.921875 13.96875 46.921875 20.515625 \r\nQ 46.921875 27.09375 42.890625 30.859375 \r\nQ 38.875 34.625 31.78125 34.625 \r\nz\r\nM 21.921875 38.8125 \r\nQ 15.578125 40.375 12.03125 44.71875 \r\nQ 8.5 49.078125 8.5 55.328125 \r\nQ 8.5 64.0625 14.71875 69.140625 \r\nQ 20.953125 74.21875 31.78125 74.21875 \r\nQ 42.671875 74.21875 48.875 69.140625 \r\nQ 55.078125 64.0625 55.078125 55.328125 \r\nQ 55.078125 49.078125 51.53125 44.71875 \r\nQ 48 40.375 41.703125 38.8125 \r\nQ 48.828125 37.15625 52.796875 32.3125 \r\nQ 56.78125 27.484375 56.78125 20.515625 \r\nQ 56.78125 9.90625 50.3125 4.234375 \r\nQ 43.84375 -1.421875 31.78125 -1.421875 \r\nQ 19.734375 -1.421875 13.25 4.234375 \r\nQ 6.78125 9.90625 6.78125 20.515625 \r\nQ 6.78125 27.484375 10.78125 32.3125 \r\nQ 14.796875 37.15625 21.921875 38.8125 \r\nz\r\nM 18.3125 54.390625 \r\nQ 18.3125 48.734375 21.84375 45.5625 \r\nQ 25.390625 42.390625 31.78125 42.390625 \r\nQ 38.140625 42.390625 41.71875 45.5625 \r\nQ 45.3125 48.734375 45.3125 54.390625 \r\nQ 45.3125 60.0625 41.71875 63.234375 \r\nQ 38.140625 66.40625 31.78125 66.40625 \r\nQ 25.390625 66.40625 21.84375 63.234375 \r\nQ 18.3125 60.0625 18.3125 54.390625 \r\nz\r\n\" id=\"DejaVuSans-56\"/>\r\n        <path d=\"M 31.78125 66.40625 \r\nQ 24.171875 66.40625 20.328125 58.90625 \r\nQ 16.5 51.421875 16.5 36.375 \r\nQ 16.5 21.390625 20.328125 13.890625 \r\nQ 24.171875 6.390625 31.78125 6.390625 \r\nQ 39.453125 6.390625 43.28125 13.890625 \r\nQ 47.125 21.390625 47.125 36.375 \r\nQ 47.125 51.421875 43.28125 58.90625 \r\nQ 39.453125 66.40625 31.78125 66.40625 \r\nz\r\nM 31.78125 74.21875 \r\nQ 44.046875 74.21875 50.515625 64.515625 \r\nQ 56.984375 54.828125 56.984375 36.375 \r\nQ 56.984375 17.96875 50.515625 8.265625 \r\nQ 44.046875 -1.421875 31.78125 -1.421875 \r\nQ 19.53125 -1.421875 13.0625 8.265625 \r\nQ 6.59375 17.96875 6.59375 36.375 \r\nQ 6.59375 54.828125 13.0625 64.515625 \r\nQ 19.53125 74.21875 31.78125 74.21875 \r\nz\r\n\" id=\"DejaVuSans-48\"/>\r\n       </defs>\r\n       <use xlink:href=\"#DejaVuSans-53\"/>\r\n       <use x=\"63.623047\" xlink:href=\"#DejaVuSans-56\"/>\r\n       <use x=\"127.246094\" xlink:href=\"#DejaVuSans-48\"/>\r\n       <use x=\"190.869141\" xlink:href=\"#DejaVuSans-48\"/>\r\n       <use x=\"254.492188\" xlink:href=\"#DejaVuSans-48\"/>\r\n      </g>\r\n     </g>\r\n    </g>\r\n    <g id=\"xtick_2\">\r\n     <g id=\"line2d_2\">\r\n      <g>\r\n       <use style=\"stroke:#000000;stroke-width:0.8;\" x=\"136.471867\" xlink:href=\"#mf70bfbe90d\" y=\"224.64\"/>\r\n      </g>\r\n     </g>\r\n     <g id=\"text_2\">\r\n      <!-- 60000 -->\r\n      <g transform=\"translate(120.565617 239.238437)scale(0.1 -0.1)\">\r\n       <defs>\r\n        <path d=\"M 33.015625 40.375 \r\nQ 26.375 40.375 22.484375 35.828125 \r\nQ 18.609375 31.296875 18.609375 23.390625 \r\nQ 18.609375 15.53125 22.484375 10.953125 \r\nQ 26.375 6.390625 33.015625 6.390625 \r\nQ 39.65625 6.390625 43.53125 10.953125 \r\nQ 47.40625 15.53125 47.40625 23.390625 \r\nQ 47.40625 31.296875 43.53125 35.828125 \r\nQ 39.65625 40.375 33.015625 40.375 \r\nz\r\nM 52.59375 71.296875 \r\nL 52.59375 62.3125 \r\nQ 48.875 64.0625 45.09375 64.984375 \r\nQ 41.3125 65.921875 37.59375 65.921875 \r\nQ 27.828125 65.921875 22.671875 59.328125 \r\nQ 17.53125 52.734375 16.796875 39.40625 \r\nQ 19.671875 43.65625 24.015625 45.921875 \r\nQ 28.375 48.1875 33.59375 48.1875 \r\nQ 44.578125 48.1875 50.953125 41.515625 \r\nQ 57.328125 34.859375 57.328125 23.390625 \r\nQ 57.328125 12.15625 50.6875 5.359375 \r\nQ 44.046875 -1.421875 33.015625 -1.421875 \r\nQ 20.359375 -1.421875 13.671875 8.265625 \r\nQ 6.984375 17.96875 6.984375 36.375 \r\nQ 6.984375 53.65625 15.1875 63.9375 \r\nQ 23.390625 74.21875 37.203125 74.21875 \r\nQ 40.921875 74.21875 44.703125 73.484375 \r\nQ 48.484375 72.75 52.59375 71.296875 \r\nz\r\n\" id=\"DejaVuSans-54\"/>\r\n       </defs>\r\n       <use xlink:href=\"#DejaVuSans-54\"/>\r\n       <use x=\"63.623047\" xlink:href=\"#DejaVuSans-48\"/>\r\n       <use x=\"127.246094\" xlink:href=\"#DejaVuSans-48\"/>\r\n       <use x=\"190.869141\" xlink:href=\"#DejaVuSans-48\"/>\r\n       <use x=\"254.492188\" xlink:href=\"#DejaVuSans-48\"/>\r\n      </g>\r\n     </g>\r\n    </g>\r\n    <g id=\"xtick_3\">\r\n     <g id=\"line2d_3\">\r\n      <g>\r\n       <use style=\"stroke:#000000;stroke-width:0.8;\" x=\"200.146268\" xlink:href=\"#mf70bfbe90d\" y=\"224.64\"/>\r\n      </g>\r\n     </g>\r\n     <g id=\"text_3\">\r\n      <!-- 62000 -->\r\n      <g transform=\"translate(184.240018 239.238437)scale(0.1 -0.1)\">\r\n       <defs>\r\n        <path d=\"M 19.1875 8.296875 \r\nL 53.609375 8.296875 \r\nL 53.609375 0 \r\nL 7.328125 0 \r\nL 7.328125 8.296875 \r\nQ 12.9375 14.109375 22.625 23.890625 \r\nQ 32.328125 33.6875 34.8125 36.53125 \r\nQ 39.546875 41.84375 41.421875 45.53125 \r\nQ 43.3125 49.21875 43.3125 52.78125 \r\nQ 43.3125 58.59375 39.234375 62.25 \r\nQ 35.15625 65.921875 28.609375 65.921875 \r\nQ 23.96875 65.921875 18.8125 64.3125 \r\nQ 13.671875 62.703125 7.8125 59.421875 \r\nL 7.8125 69.390625 \r\nQ 13.765625 71.78125 18.9375 73 \r\nQ 24.125 74.21875 28.421875 74.21875 \r\nQ 39.75 74.21875 46.484375 68.546875 \r\nQ 53.21875 62.890625 53.21875 53.421875 \r\nQ 53.21875 48.921875 51.53125 44.890625 \r\nQ 49.859375 40.875 45.40625 35.40625 \r\nQ 44.1875 33.984375 37.640625 27.21875 \r\nQ 31.109375 20.453125 19.1875 8.296875 \r\nz\r\n\" id=\"DejaVuSans-50\"/>\r\n       </defs>\r\n       <use xlink:href=\"#DejaVuSans-54\"/>\r\n       <use x=\"63.623047\" xlink:href=\"#DejaVuSans-50\"/>\r\n       <use x=\"127.246094\" xlink:href=\"#DejaVuSans-48\"/>\r\n       <use x=\"190.869141\" xlink:href=\"#DejaVuSans-48\"/>\r\n       <use x=\"254.492188\" xlink:href=\"#DejaVuSans-48\"/>\r\n      </g>\r\n     </g>\r\n    </g>\r\n    <g id=\"xtick_4\">\r\n     <g id=\"line2d_4\">\r\n      <g>\r\n       <use style=\"stroke:#000000;stroke-width:0.8;\" x=\"263.820669\" xlink:href=\"#mf70bfbe90d\" y=\"224.64\"/>\r\n      </g>\r\n     </g>\r\n     <g id=\"text_4\">\r\n      <!-- 64000 -->\r\n      <g transform=\"translate(247.914419 239.238437)scale(0.1 -0.1)\">\r\n       <defs>\r\n        <path d=\"M 37.796875 64.3125 \r\nL 12.890625 25.390625 \r\nL 37.796875 25.390625 \r\nz\r\nM 35.203125 72.90625 \r\nL 47.609375 72.90625 \r\nL 47.609375 25.390625 \r\nL 58.015625 25.390625 \r\nL 58.015625 17.1875 \r\nL 47.609375 17.1875 \r\nL 47.609375 0 \r\nL 37.796875 0 \r\nL 37.796875 17.1875 \r\nL 4.890625 17.1875 \r\nL 4.890625 26.703125 \r\nz\r\n\" id=\"DejaVuSans-52\"/>\r\n       </defs>\r\n       <use xlink:href=\"#DejaVuSans-54\"/>\r\n       <use x=\"63.623047\" xlink:href=\"#DejaVuSans-52\"/>\r\n       <use x=\"127.246094\" xlink:href=\"#DejaVuSans-48\"/>\r\n       <use x=\"190.869141\" xlink:href=\"#DejaVuSans-48\"/>\r\n       <use x=\"254.492188\" xlink:href=\"#DejaVuSans-48\"/>\r\n      </g>\r\n     </g>\r\n    </g>\r\n    <g id=\"xtick_5\">\r\n     <g id=\"line2d_5\">\r\n      <g>\r\n       <use style=\"stroke:#000000;stroke-width:0.8;\" x=\"327.495069\" xlink:href=\"#mf70bfbe90d\" y=\"224.64\"/>\r\n      </g>\r\n     </g>\r\n     <g id=\"text_5\">\r\n      <!-- 66000 -->\r\n      <g transform=\"translate(311.588819 239.238437)scale(0.1 -0.1)\">\r\n       <use xlink:href=\"#DejaVuSans-54\"/>\r\n       <use x=\"63.623047\" xlink:href=\"#DejaVuSans-54\"/>\r\n       <use x=\"127.246094\" xlink:href=\"#DejaVuSans-48\"/>\r\n       <use x=\"190.869141\" xlink:href=\"#DejaVuSans-48\"/>\r\n       <use x=\"254.492188\" xlink:href=\"#DejaVuSans-48\"/>\r\n      </g>\r\n     </g>\r\n    </g>\r\n   </g>\r\n   <g id=\"matplotlib.axis_2\">\r\n    <g id=\"ytick_1\">\r\n     <g id=\"line2d_6\">\r\n      <defs>\r\n       <path d=\"M 0 0 \r\nL -3.5 0 \r\n\" id=\"m449264363d\" style=\"stroke:#000000;stroke-width:0.8;\"/>\r\n      </defs>\r\n      <g>\r\n       <use style=\"stroke:#000000;stroke-width:0.8;\" x=\"33.2875\" xlink:href=\"#m449264363d\" y=\"217.370938\"/>\r\n      </g>\r\n     </g>\r\n     <g id=\"text_6\">\r\n      <!-- 450 -->\r\n      <g transform=\"translate(7.2 221.170157)scale(0.1 -0.1)\">\r\n       <use xlink:href=\"#DejaVuSans-52\"/>\r\n       <use x=\"63.623047\" xlink:href=\"#DejaVuSans-53\"/>\r\n       <use x=\"127.246094\" xlink:href=\"#DejaVuSans-48\"/>\r\n      </g>\r\n     </g>\r\n    </g>\r\n    <g id=\"ytick_2\">\r\n     <g id=\"line2d_7\">\r\n      <g>\r\n       <use style=\"stroke:#000000;stroke-width:0.8;\" x=\"33.2875\" xlink:href=\"#m449264363d\" y=\"190.135787\"/>\r\n      </g>\r\n     </g>\r\n     <g id=\"text_7\">\r\n      <!-- 500 -->\r\n      <g transform=\"translate(7.2 193.935006)scale(0.1 -0.1)\">\r\n       <use xlink:href=\"#DejaVuSans-53\"/>\r\n       <use x=\"63.623047\" xlink:href=\"#DejaVuSans-48\"/>\r\n       <use x=\"127.246094\" xlink:href=\"#DejaVuSans-48\"/>\r\n      </g>\r\n     </g>\r\n    </g>\r\n    <g id=\"ytick_3\">\r\n     <g id=\"line2d_8\">\r\n      <g>\r\n       <use style=\"stroke:#000000;stroke-width:0.8;\" x=\"33.2875\" xlink:href=\"#m449264363d\" y=\"162.900636\"/>\r\n      </g>\r\n     </g>\r\n     <g id=\"text_8\">\r\n      <!-- 550 -->\r\n      <g transform=\"translate(7.2 166.699855)scale(0.1 -0.1)\">\r\n       <use xlink:href=\"#DejaVuSans-53\"/>\r\n       <use x=\"63.623047\" xlink:href=\"#DejaVuSans-53\"/>\r\n       <use x=\"127.246094\" xlink:href=\"#DejaVuSans-48\"/>\r\n      </g>\r\n     </g>\r\n    </g>\r\n    <g id=\"ytick_4\">\r\n     <g id=\"line2d_9\">\r\n      <g>\r\n       <use style=\"stroke:#000000;stroke-width:0.8;\" x=\"33.2875\" xlink:href=\"#m449264363d\" y=\"135.665485\"/>\r\n      </g>\r\n     </g>\r\n     <g id=\"text_9\">\r\n      <!-- 600 -->\r\n      <g transform=\"translate(7.2 139.464703)scale(0.1 -0.1)\">\r\n       <use xlink:href=\"#DejaVuSans-54\"/>\r\n       <use x=\"63.623047\" xlink:href=\"#DejaVuSans-48\"/>\r\n       <use x=\"127.246094\" xlink:href=\"#DejaVuSans-48\"/>\r\n      </g>\r\n     </g>\r\n    </g>\r\n    <g id=\"ytick_5\">\r\n     <g id=\"line2d_10\">\r\n      <g>\r\n       <use style=\"stroke:#000000;stroke-width:0.8;\" x=\"33.2875\" xlink:href=\"#m449264363d\" y=\"108.430333\"/>\r\n      </g>\r\n     </g>\r\n     <g id=\"text_10\">\r\n      <!-- 650 -->\r\n      <g transform=\"translate(7.2 112.229552)scale(0.1 -0.1)\">\r\n       <use xlink:href=\"#DejaVuSans-54\"/>\r\n       <use x=\"63.623047\" xlink:href=\"#DejaVuSans-53\"/>\r\n       <use x=\"127.246094\" xlink:href=\"#DejaVuSans-48\"/>\r\n      </g>\r\n     </g>\r\n    </g>\r\n    <g id=\"ytick_6\">\r\n     <g id=\"line2d_11\">\r\n      <g>\r\n       <use style=\"stroke:#000000;stroke-width:0.8;\" x=\"33.2875\" xlink:href=\"#m449264363d\" y=\"81.195182\"/>\r\n      </g>\r\n     </g>\r\n     <g id=\"text_11\">\r\n      <!-- 700 -->\r\n      <g transform=\"translate(7.2 84.994401)scale(0.1 -0.1)\">\r\n       <defs>\r\n        <path d=\"M 8.203125 72.90625 \r\nL 55.078125 72.90625 \r\nL 55.078125 68.703125 \r\nL 28.609375 0 \r\nL 18.3125 0 \r\nL 43.21875 64.59375 \r\nL 8.203125 64.59375 \r\nz\r\n\" id=\"DejaVuSans-55\"/>\r\n       </defs>\r\n       <use xlink:href=\"#DejaVuSans-55\"/>\r\n       <use x=\"63.623047\" xlink:href=\"#DejaVuSans-48\"/>\r\n       <use x=\"127.246094\" xlink:href=\"#DejaVuSans-48\"/>\r\n      </g>\r\n     </g>\r\n    </g>\r\n    <g id=\"ytick_7\">\r\n     <g id=\"line2d_12\">\r\n      <g>\r\n       <use style=\"stroke:#000000;stroke-width:0.8;\" x=\"33.2875\" xlink:href=\"#m449264363d\" y=\"53.960031\"/>\r\n      </g>\r\n     </g>\r\n     <g id=\"text_12\">\r\n      <!-- 750 -->\r\n      <g transform=\"translate(7.2 57.75925)scale(0.1 -0.1)\">\r\n       <use xlink:href=\"#DejaVuSans-55\"/>\r\n       <use x=\"63.623047\" xlink:href=\"#DejaVuSans-53\"/>\r\n       <use x=\"127.246094\" xlink:href=\"#DejaVuSans-48\"/>\r\n      </g>\r\n     </g>\r\n    </g>\r\n    <g id=\"ytick_8\">\r\n     <g id=\"line2d_13\">\r\n      <g>\r\n       <use style=\"stroke:#000000;stroke-width:0.8;\" x=\"33.2875\" xlink:href=\"#m449264363d\" y=\"26.72488\"/>\r\n      </g>\r\n     </g>\r\n     <g id=\"text_13\">\r\n      <!-- 800 -->\r\n      <g transform=\"translate(7.2 30.524099)scale(0.1 -0.1)\">\r\n       <use xlink:href=\"#DejaVuSans-56\"/>\r\n       <use x=\"63.623047\" xlink:href=\"#DejaVuSans-48\"/>\r\n       <use x=\"127.246094\" xlink:href=\"#DejaVuSans-48\"/>\r\n      </g>\r\n     </g>\r\n    </g>\r\n   </g>\r\n   <g id=\"patch_3\">\r\n    <path d=\"M 33.2875 224.64 \r\nL 33.2875 7.2 \r\n\" style=\"fill:none;stroke:#000000;stroke-linecap:square;stroke-linejoin:miter;stroke-width:0.8;\"/>\r\n   </g>\r\n   <g id=\"patch_4\">\r\n    <path d=\"M 368.0875 224.64 \r\nL 368.0875 7.2 \r\n\" style=\"fill:none;stroke:#000000;stroke-linecap:square;stroke-linejoin:miter;stroke-width:0.8;\"/>\r\n   </g>\r\n   <g id=\"patch_5\">\r\n    <path d=\"M 33.2875 224.64 \r\nL 368.0875 224.64 \r\n\" style=\"fill:none;stroke:#000000;stroke-linecap:square;stroke-linejoin:miter;stroke-width:0.8;\"/>\r\n   </g>\r\n   <g id=\"patch_6\">\r\n    <path d=\"M 33.2875 7.2 \r\nL 368.0875 7.2 \r\n\" style=\"fill:none;stroke:#000000;stroke-linecap:square;stroke-linejoin:miter;stroke-width:0.8;\"/>\r\n   </g>\r\n  </g>\r\n </g>\r\n <defs>\r\n  <clipPath id=\"p38fc87b458\">\r\n   <rect height=\"217.44\" width=\"334.8\" x=\"33.2875\" y=\"7.2\"/>\r\n  </clipPath>\r\n </defs>\r\n</svg>\r\n",
      "image/png": "[encoded data removed]"
     },
     "metadata": {
      "needs_background": "light"
     }
    }
   ],
   "source": [
    "plt.scatter(X,y)"
   ]
  },
  {
   "cell_type": "code",
   "execution_count": 66,
   "metadata": {},
   "outputs": [],
   "source": [
    "# Create the model and fit the model to the data\n",
    "\n",
    "from sklearn.linear_model import LinearRegression\n",
    "\n",
    "\n",
    "\n",
    "model = LinearRegression()\n",
    "\n"
   ]
  },
  {
   "cell_type": "code",
   "execution_count": 67,
   "metadata": {},
   "outputs": [
    {
     "output_type": "execute_result",
     "data": {
      "text/plain": [
       "LinearRegression()"
      ]
     },
     "metadata": {},
     "execution_count": 67
    }
   ],
   "source": [
    "# Fit the model to the data. \n",
    "\n",
    "\n",
    "\n",
    "\n",
    "model.fit(X, y)\n",
    "\n"
   ]
  },
  {
   "cell_type": "code",
   "execution_count": 68,
   "metadata": {},
   "outputs": [
    {
     "output_type": "stream",
     "name": "stdout",
     "text": [
      "Weight coefficients:  [[-0.03604112]]\ny-axis intercept:  [2861.29931261]\n"
     ]
    }
   ],
   "source": [
    "# Print the coefficient and the intercept for the model\n",
    "\n",
    "\n",
    "print('Weight coefficients: ', model.coef_)\n",
    "print('y-axis intercept: ', model.intercept_)\n"
   ]
  },
  {
   "cell_type": "code",
   "execution_count": 69,
   "metadata": {},
   "outputs": [
    {
     "output_type": "stream",
     "name": "stdout",
     "text": [
      "Min X Value: [[57237]]\nMax X Value: [[66797]]\n"
     ]
    }
   ],
   "source": [
    "x_min = np.array([[X.min()]])\n",
    "x_max = np.array([[X.max()]])\n",
    "print(f\"Min X Value: {x_min}\")\n",
    "print(f\"Max X Value: {x_max}\")"
   ]
  },
  {
   "cell_type": "code",
   "execution_count": 70,
   "metadata": {},
   "outputs": [],
   "source": [
    "# Calculate the y_min and y_max using model.predict and x_min and x_max\n",
    "\n",
    "y_min = model.predict(x_min)\n",
    "y_max = model.predict(x_max)\n"
   ]
  },
  {
   "cell_type": "code",
   "execution_count": 71,
   "metadata": {},
   "outputs": [
    {
     "output_type": "execute_result",
     "data": {
      "text/plain": [
       "[<matplotlib.lines.Line2D at 0x13a385f7970>]"
      ]
     },
     "metadata": {},
     "execution_count": 71
    },
    {
     "output_type": "display_data",
     "data": {
      "text/plain": "<Figure size 432x288 with 1 Axes>",
      "image/svg+xml": "<?xml version=\"1.0\" encoding=\"utf-8\" standalone=\"no\"?>\r\n<!DOCTYPE svg PUBLIC \"-//W3C//DTD SVG 1.1//EN\"\r\n  \"http://www.w3.org/Graphics/SVG/1.1/DTD/svg11.dtd\">\r\n<!-- Created with matplotlib (https://matplotlib.org/) -->\r\n<svg height=\"248.518125pt\" version=\"1.1\" viewBox=\"0 0 375.2875 248.518125\" width=\"375.2875pt\" xmlns=\"http://www.w3.org/2000/svg\" xmlns:xlink=\"http://www.w3.org/1999/xlink\">\r\n <metadata>\r\n  <rdf:RDF xmlns:cc=\"http://creativecommons.org/ns#\" xmlns:dc=\"http://purl.org/dc/elements/1.1/\" xmlns:rdf=\"http://www.w3.org/1999/02/22-rdf-syntax-ns#\">\r\n   <cc:Work>\r\n    <dc:type rdf:resource=\"http://purl.org/dc/dcmitype/StillImage\"/>\r\n    <dc:date>2021-05-26T21:11:37.329755</dc:date>\r\n    <dc:format>image/svg+xml</dc:format>\r\n    <dc:creator>\r\n     <cc:Agent>\r\n      <dc:title>Matplotlib v3.3.4, https://matplotlib.org/</dc:title>\r\n     </cc:Agent>\r\n    </dc:creator>\r\n   </cc:Work>\r\n  </rdf:RDF>\r\n </metadata>\r\n <defs>\r\n  <style type=\"text/css\">*{stroke-linecap:butt;stroke-linejoin:round;}</style>\r\n </defs>\r\n <g id=\"figure_1\">\r\n  <g id=\"patch_1\">\r\n   <path d=\"M 0 248.518125 \r\nL 375.2875 248.518125 \r\nL 375.2875 0 \r\nL 0 0 \r\nz\r\n\" style=\"fill:none;\"/>\r\n  </g>\r\n  <g id=\"axes_1\">\r\n   <g id=\"patch_2\">\r\n    <path d=\"M 33.2875 224.64 \r\nL 368.0875 224.64 \r\nL 368.0875 7.2 \r\nL 33.2875 7.2 \r\nz\r\n\" style=\"fill:#ffffff;\"/>\r\n   </g>\r\n   <g id=\"PathCollection_1\">\r\n    <defs>\r\n     <path d=\"M 0 3 \r\nC 0.795609 3 1.55874 2.683901 2.12132 2.12132 \r\nC 2.683901 1.55874 3 0.795609 3 0 \r\nC 3 -0.795609 2.683901 -1.55874 2.12132 -2.12132 \r\nC 1.55874 -2.683901 0.795609 -3 0 -3 \r\nC -0.795609 -3 -1.55874 -2.683901 -2.12132 -2.12132 \r\nC -2.683901 -1.55874 -3 -0.795609 -3 0 \r\nC -3 0.795609 -2.683901 1.55874 -2.12132 2.12132 \r\nC -1.55874 2.683901 -0.795609 3 0 3 \r\nz\r\n\" id=\"m8e8dd23308\" style=\"stroke:#0000ff;\"/>\r\n    </defs>\r\n    <g clip-path=\"url(#pf5e5072ed5)\">\r\n     <use style=\"fill:#0000ff;stroke:#0000ff;\" x=\"48.505682\" xlink:href=\"#m8e8dd23308\" y=\"21.75599\"/>\r\n     <use style=\"fill:#0000ff;stroke:#0000ff;\" x=\"54.936796\" xlink:href=\"#m8e8dd23308\" y=\"17.083636\"/>\r\n     <use style=\"fill:#0000ff;stroke:#0000ff;\" x=\"59.585028\" xlink:href=\"#m8e8dd23308\" y=\"28.927509\"/>\r\n     <use style=\"fill:#0000ff;stroke:#0000ff;\" x=\"63.692026\" xlink:href=\"#m8e8dd23308\" y=\"39.847776\"/>\r\n     <use style=\"fill:#0000ff;stroke:#0000ff;\" x=\"68.403932\" xlink:href=\"#m8e8dd23308\" y=\"45.172086\"/>\r\n     <use style=\"fill:#0000ff;stroke:#0000ff;\" x=\"73.593396\" xlink:href=\"#m8e8dd23308\" y=\"48.812175\"/>\r\n     <use style=\"fill:#0000ff;stroke:#0000ff;\" x=\"78.018767\" xlink:href=\"#m8e8dd23308\" y=\"37.565929\"/>\r\n     <use style=\"fill:#0000ff;stroke:#0000ff;\" x=\"82.794347\" xlink:href=\"#m8e8dd23308\" y=\"51.963297\"/>\r\n     <use style=\"fill:#0000ff;stroke:#0000ff;\" x=\"87.920136\" xlink:href=\"#m8e8dd23308\" y=\"53.593188\"/>\r\n     <use style=\"fill:#0000ff;stroke:#0000ff;\" x=\"94.574111\" xlink:href=\"#m8e8dd23308\" y=\"69.566117\"/>\r\n     <use style=\"fill:#0000ff;stroke:#0000ff;\" x=\"101.005225\" xlink:href=\"#m8e8dd23308\" y=\"70.272403\"/>\r\n     <use style=\"fill:#0000ff;stroke:#0000ff;\" x=\"108.23227\" xlink:href=\"#m8e8dd23308\" y=\"69.185809\"/>\r\n     <use style=\"fill:#0000ff;stroke:#0000ff;\" x=\"116.287082\" xlink:href=\"#m8e8dd23308\" y=\"80.540714\"/>\r\n     <use style=\"fill:#0000ff;stroke:#0000ff;\" x=\"124.914963\" xlink:href=\"#m8e8dd23308\" y=\"77.172273\"/>\r\n     <use style=\"fill:#0000ff;stroke:#0000ff;\" x=\"134.880007\" xlink:href=\"#m8e8dd23308\" y=\"79.725769\"/>\r\n     <use style=\"fill:#0000ff;stroke:#0000ff;\" x=\"149.62063\" xlink:href=\"#m8e8dd23308\" y=\"84.180803\"/>\r\n     <use style=\"fill:#0000ff;stroke:#0000ff;\" x=\"162.801231\" xlink:href=\"#m8e8dd23308\" y=\"88.472849\"/>\r\n     <use style=\"fill:#0000ff;stroke:#0000ff;\" x=\"178.465134\" xlink:href=\"#m8e8dd23308\" y=\"95.26406\"/>\r\n     <use style=\"fill:#0000ff;stroke:#0000ff;\" x=\"194.54292\" xlink:href=\"#m8e8dd23308\" y=\"106.890613\"/>\r\n     <use style=\"fill:#0000ff;stroke:#0000ff;\" x=\"208.42394\" xlink:href=\"#m8e8dd23308\" y=\"137.369569\"/>\r\n     <use style=\"fill:#0000ff;stroke:#0000ff;\" x=\"224.310703\" xlink:href=\"#m8e8dd23308\" y=\"129.654753\"/>\r\n     <use style=\"fill:#0000ff;stroke:#0000ff;\" x=\"241.05707\" xlink:href=\"#m8e8dd23308\" y=\"154.429092\"/>\r\n     <use style=\"fill:#0000ff;stroke:#0000ff;\" x=\"254.428694\" xlink:href=\"#m8e8dd23308\" y=\"145.247374\"/>\r\n     <use style=\"fill:#0000ff;stroke:#0000ff;\" x=\"267.195412\" xlink:href=\"#m8e8dd23308\" y=\"152.799201\"/>\r\n     <use style=\"fill:#0000ff;stroke:#0000ff;\" x=\"282.827477\" xlink:href=\"#m8e8dd23308\" y=\"174.694066\"/>\r\n     <use style=\"fill:#0000ff;stroke:#0000ff;\" x=\"299.159961\" xlink:href=\"#m8e8dd23308\" y=\"183.984443\"/>\r\n     <use style=\"fill:#0000ff;stroke:#0000ff;\" x=\"313.900585\" xlink:href=\"#m8e8dd23308\" y=\"197.621195\"/>\r\n     <use style=\"fill:#0000ff;stroke:#0000ff;\" x=\"328.768557\" xlink:href=\"#m8e8dd23308\" y=\"203.706121\"/>\r\n     <use style=\"fill:#0000ff;stroke:#0000ff;\" x=\"341.376089\" xlink:href=\"#m8e8dd23308\" y=\"207.020232\"/>\r\n     <use style=\"fill:#0000ff;stroke:#0000ff;\" x=\"352.869318\" xlink:href=\"#m8e8dd23308\" y=\"214.24608\"/>\r\n    </g>\r\n   </g>\r\n   <g id=\"matplotlib.axis_1\">\r\n    <g id=\"xtick_1\">\r\n     <g id=\"line2d_1\">\r\n      <defs>\r\n       <path d=\"M 0 0 \r\nL 0 3.5 \r\n\" id=\"m5a2a795ab4\" style=\"stroke:#000000;stroke-width:0.8;\"/>\r\n      </defs>\r\n      <g>\r\n       <use style=\"stroke:#000000;stroke-width:0.8;\" x=\"72.797466\" xlink:href=\"#m5a2a795ab4\" y=\"224.64\"/>\r\n      </g>\r\n     </g>\r\n     <g id=\"text_1\">\r\n      <!-- 58000 -->\r\n      <g transform=\"translate(56.891216 239.238437)scale(0.1 -0.1)\">\r\n       <defs>\r\n        <path d=\"M 10.796875 72.90625 \r\nL 49.515625 72.90625 \r\nL 49.515625 64.59375 \r\nL 19.828125 64.59375 \r\nL 19.828125 46.734375 \r\nQ 21.96875 47.46875 24.109375 47.828125 \r\nQ 26.265625 48.1875 28.421875 48.1875 \r\nQ 40.625 48.1875 47.75 41.5 \r\nQ 54.890625 34.8125 54.890625 23.390625 \r\nQ 54.890625 11.625 47.5625 5.09375 \r\nQ 40.234375 -1.421875 26.90625 -1.421875 \r\nQ 22.3125 -1.421875 17.546875 -0.640625 \r\nQ 12.796875 0.140625 7.71875 1.703125 \r\nL 7.71875 11.625 \r\nQ 12.109375 9.234375 16.796875 8.0625 \r\nQ 21.484375 6.890625 26.703125 6.890625 \r\nQ 35.15625 6.890625 40.078125 11.328125 \r\nQ 45.015625 15.765625 45.015625 23.390625 \r\nQ 45.015625 31 40.078125 35.4375 \r\nQ 35.15625 39.890625 26.703125 39.890625 \r\nQ 22.75 39.890625 18.8125 39.015625 \r\nQ 14.890625 38.140625 10.796875 36.28125 \r\nz\r\n\" id=\"DejaVuSans-53\"/>\r\n        <path d=\"M 31.78125 34.625 \r\nQ 24.75 34.625 20.71875 30.859375 \r\nQ 16.703125 27.09375 16.703125 20.515625 \r\nQ 16.703125 13.921875 20.71875 10.15625 \r\nQ 24.75 6.390625 31.78125 6.390625 \r\nQ 38.8125 6.390625 42.859375 10.171875 \r\nQ 46.921875 13.96875 46.921875 20.515625 \r\nQ 46.921875 27.09375 42.890625 30.859375 \r\nQ 38.875 34.625 31.78125 34.625 \r\nz\r\nM 21.921875 38.8125 \r\nQ 15.578125 40.375 12.03125 44.71875 \r\nQ 8.5 49.078125 8.5 55.328125 \r\nQ 8.5 64.0625 14.71875 69.140625 \r\nQ 20.953125 74.21875 31.78125 74.21875 \r\nQ 42.671875 74.21875 48.875 69.140625 \r\nQ 55.078125 64.0625 55.078125 55.328125 \r\nQ 55.078125 49.078125 51.53125 44.71875 \r\nQ 48 40.375 41.703125 38.8125 \r\nQ 48.828125 37.15625 52.796875 32.3125 \r\nQ 56.78125 27.484375 56.78125 20.515625 \r\nQ 56.78125 9.90625 50.3125 4.234375 \r\nQ 43.84375 -1.421875 31.78125 -1.421875 \r\nQ 19.734375 -1.421875 13.25 4.234375 \r\nQ 6.78125 9.90625 6.78125 20.515625 \r\nQ 6.78125 27.484375 10.78125 32.3125 \r\nQ 14.796875 37.15625 21.921875 38.8125 \r\nz\r\nM 18.3125 54.390625 \r\nQ 18.3125 48.734375 21.84375 45.5625 \r\nQ 25.390625 42.390625 31.78125 42.390625 \r\nQ 38.140625 42.390625 41.71875 45.5625 \r\nQ 45.3125 48.734375 45.3125 54.390625 \r\nQ 45.3125 60.0625 41.71875 63.234375 \r\nQ 38.140625 66.40625 31.78125 66.40625 \r\nQ 25.390625 66.40625 21.84375 63.234375 \r\nQ 18.3125 60.0625 18.3125 54.390625 \r\nz\r\n\" id=\"DejaVuSans-56\"/>\r\n        <path d=\"M 31.78125 66.40625 \r\nQ 24.171875 66.40625 20.328125 58.90625 \r\nQ 16.5 51.421875 16.5 36.375 \r\nQ 16.5 21.390625 20.328125 13.890625 \r\nQ 24.171875 6.390625 31.78125 6.390625 \r\nQ 39.453125 6.390625 43.28125 13.890625 \r\nQ 47.125 21.390625 47.125 36.375 \r\nQ 47.125 51.421875 43.28125 58.90625 \r\nQ 39.453125 66.40625 31.78125 66.40625 \r\nz\r\nM 31.78125 74.21875 \r\nQ 44.046875 74.21875 50.515625 64.515625 \r\nQ 56.984375 54.828125 56.984375 36.375 \r\nQ 56.984375 17.96875 50.515625 8.265625 \r\nQ 44.046875 -1.421875 31.78125 -1.421875 \r\nQ 19.53125 -1.421875 13.0625 8.265625 \r\nQ 6.59375 17.96875 6.59375 36.375 \r\nQ 6.59375 54.828125 13.0625 64.515625 \r\nQ 19.53125 74.21875 31.78125 74.21875 \r\nz\r\n\" id=\"DejaVuSans-48\"/>\r\n       </defs>\r\n       <use xlink:href=\"#DejaVuSans-53\"/>\r\n       <use x=\"63.623047\" xlink:href=\"#DejaVuSans-56\"/>\r\n       <use x=\"127.246094\" xlink:href=\"#DejaVuSans-48\"/>\r\n       <use x=\"190.869141\" xlink:href=\"#DejaVuSans-48\"/>\r\n       <use x=\"254.492188\" xlink:href=\"#DejaVuSans-48\"/>\r\n      </g>\r\n     </g>\r\n    </g>\r\n    <g id=\"xtick_2\">\r\n     <g id=\"line2d_2\">\r\n      <g>\r\n       <use style=\"stroke:#000000;stroke-width:0.8;\" x=\"136.471867\" xlink:href=\"#m5a2a795ab4\" y=\"224.64\"/>\r\n      </g>\r\n     </g>\r\n     <g id=\"text_2\">\r\n      <!-- 60000 -->\r\n      <g transform=\"translate(120.565617 239.238437)scale(0.1 -0.1)\">\r\n       <defs>\r\n        <path d=\"M 33.015625 40.375 \r\nQ 26.375 40.375 22.484375 35.828125 \r\nQ 18.609375 31.296875 18.609375 23.390625 \r\nQ 18.609375 15.53125 22.484375 10.953125 \r\nQ 26.375 6.390625 33.015625 6.390625 \r\nQ 39.65625 6.390625 43.53125 10.953125 \r\nQ 47.40625 15.53125 47.40625 23.390625 \r\nQ 47.40625 31.296875 43.53125 35.828125 \r\nQ 39.65625 40.375 33.015625 40.375 \r\nz\r\nM 52.59375 71.296875 \r\nL 52.59375 62.3125 \r\nQ 48.875 64.0625 45.09375 64.984375 \r\nQ 41.3125 65.921875 37.59375 65.921875 \r\nQ 27.828125 65.921875 22.671875 59.328125 \r\nQ 17.53125 52.734375 16.796875 39.40625 \r\nQ 19.671875 43.65625 24.015625 45.921875 \r\nQ 28.375 48.1875 33.59375 48.1875 \r\nQ 44.578125 48.1875 50.953125 41.515625 \r\nQ 57.328125 34.859375 57.328125 23.390625 \r\nQ 57.328125 12.15625 50.6875 5.359375 \r\nQ 44.046875 -1.421875 33.015625 -1.421875 \r\nQ 20.359375 -1.421875 13.671875 8.265625 \r\nQ 6.984375 17.96875 6.984375 36.375 \r\nQ 6.984375 53.65625 15.1875 63.9375 \r\nQ 23.390625 74.21875 37.203125 74.21875 \r\nQ 40.921875 74.21875 44.703125 73.484375 \r\nQ 48.484375 72.75 52.59375 71.296875 \r\nz\r\n\" id=\"DejaVuSans-54\"/>\r\n       </defs>\r\n       <use xlink:href=\"#DejaVuSans-54\"/>\r\n       <use x=\"63.623047\" xlink:href=\"#DejaVuSans-48\"/>\r\n       <use x=\"127.246094\" xlink:href=\"#DejaVuSans-48\"/>\r\n       <use x=\"190.869141\" xlink:href=\"#DejaVuSans-48\"/>\r\n       <use x=\"254.492188\" xlink:href=\"#DejaVuSans-48\"/>\r\n      </g>\r\n     </g>\r\n    </g>\r\n    <g id=\"xtick_3\">\r\n     <g id=\"line2d_3\">\r\n      <g>\r\n       <use style=\"stroke:#000000;stroke-width:0.8;\" x=\"200.146268\" xlink:href=\"#m5a2a795ab4\" y=\"224.64\"/>\r\n      </g>\r\n     </g>\r\n     <g id=\"text_3\">\r\n      <!-- 62000 -->\r\n      <g transform=\"translate(184.240018 239.238437)scale(0.1 -0.1)\">\r\n       <defs>\r\n        <path d=\"M 19.1875 8.296875 \r\nL 53.609375 8.296875 \r\nL 53.609375 0 \r\nL 7.328125 0 \r\nL 7.328125 8.296875 \r\nQ 12.9375 14.109375 22.625 23.890625 \r\nQ 32.328125 33.6875 34.8125 36.53125 \r\nQ 39.546875 41.84375 41.421875 45.53125 \r\nQ 43.3125 49.21875 43.3125 52.78125 \r\nQ 43.3125 58.59375 39.234375 62.25 \r\nQ 35.15625 65.921875 28.609375 65.921875 \r\nQ 23.96875 65.921875 18.8125 64.3125 \r\nQ 13.671875 62.703125 7.8125 59.421875 \r\nL 7.8125 69.390625 \r\nQ 13.765625 71.78125 18.9375 73 \r\nQ 24.125 74.21875 28.421875 74.21875 \r\nQ 39.75 74.21875 46.484375 68.546875 \r\nQ 53.21875 62.890625 53.21875 53.421875 \r\nQ 53.21875 48.921875 51.53125 44.890625 \r\nQ 49.859375 40.875 45.40625 35.40625 \r\nQ 44.1875 33.984375 37.640625 27.21875 \r\nQ 31.109375 20.453125 19.1875 8.296875 \r\nz\r\n\" id=\"DejaVuSans-50\"/>\r\n       </defs>\r\n       <use xlink:href=\"#DejaVuSans-54\"/>\r\n       <use x=\"63.623047\" xlink:href=\"#DejaVuSans-50\"/>\r\n       <use x=\"127.246094\" xlink:href=\"#DejaVuSans-48\"/>\r\n       <use x=\"190.869141\" xlink:href=\"#DejaVuSans-48\"/>\r\n       <use x=\"254.492188\" xlink:href=\"#DejaVuSans-48\"/>\r\n      </g>\r\n     </g>\r\n    </g>\r\n    <g id=\"xtick_4\">\r\n     <g id=\"line2d_4\">\r\n      <g>\r\n       <use style=\"stroke:#000000;stroke-width:0.8;\" x=\"263.820669\" xlink:href=\"#m5a2a795ab4\" y=\"224.64\"/>\r\n      </g>\r\n     </g>\r\n     <g id=\"text_4\">\r\n      <!-- 64000 -->\r\n      <g transform=\"translate(247.914419 239.238437)scale(0.1 -0.1)\">\r\n       <defs>\r\n        <path d=\"M 37.796875 64.3125 \r\nL 12.890625 25.390625 \r\nL 37.796875 25.390625 \r\nz\r\nM 35.203125 72.90625 \r\nL 47.609375 72.90625 \r\nL 47.609375 25.390625 \r\nL 58.015625 25.390625 \r\nL 58.015625 17.1875 \r\nL 47.609375 17.1875 \r\nL 47.609375 0 \r\nL 37.796875 0 \r\nL 37.796875 17.1875 \r\nL 4.890625 17.1875 \r\nL 4.890625 26.703125 \r\nz\r\n\" id=\"DejaVuSans-52\"/>\r\n       </defs>\r\n       <use xlink:href=\"#DejaVuSans-54\"/>\r\n       <use x=\"63.623047\" xlink:href=\"#DejaVuSans-52\"/>\r\n       <use x=\"127.246094\" xlink:href=\"#DejaVuSans-48\"/>\r\n       <use x=\"190.869141\" xlink:href=\"#DejaVuSans-48\"/>\r\n       <use x=\"254.492188\" xlink:href=\"#DejaVuSans-48\"/>\r\n      </g>\r\n     </g>\r\n    </g>\r\n    <g id=\"xtick_5\">\r\n     <g id=\"line2d_5\">\r\n      <g>\r\n       <use style=\"stroke:#000000;stroke-width:0.8;\" x=\"327.495069\" xlink:href=\"#m5a2a795ab4\" y=\"224.64\"/>\r\n      </g>\r\n     </g>\r\n     <g id=\"text_5\">\r\n      <!-- 66000 -->\r\n      <g transform=\"translate(311.588819 239.238437)scale(0.1 -0.1)\">\r\n       <use xlink:href=\"#DejaVuSans-54\"/>\r\n       <use x=\"63.623047\" xlink:href=\"#DejaVuSans-54\"/>\r\n       <use x=\"127.246094\" xlink:href=\"#DejaVuSans-48\"/>\r\n       <use x=\"190.869141\" xlink:href=\"#DejaVuSans-48\"/>\r\n       <use x=\"254.492188\" xlink:href=\"#DejaVuSans-48\"/>\r\n      </g>\r\n     </g>\r\n    </g>\r\n   </g>\r\n   <g id=\"matplotlib.axis_2\">\r\n    <g id=\"ytick_1\">\r\n     <g id=\"line2d_6\">\r\n      <defs>\r\n       <path d=\"M 0 0 \r\nL -3.5 0 \r\n\" id=\"m30d72964bb\" style=\"stroke:#000000;stroke-width:0.8;\"/>\r\n      </defs>\r\n      <g>\r\n       <use style=\"stroke:#000000;stroke-width:0.8;\" x=\"33.2875\" xlink:href=\"#m30d72964bb\" y=\"216.853905\"/>\r\n      </g>\r\n     </g>\r\n     <g id=\"text_6\">\r\n      <!-- 450 -->\r\n      <g transform=\"translate(7.2 220.653124)scale(0.1 -0.1)\">\r\n       <use xlink:href=\"#DejaVuSans-52\"/>\r\n       <use x=\"63.623047\" xlink:href=\"#DejaVuSans-53\"/>\r\n       <use x=\"127.246094\" xlink:href=\"#DejaVuSans-48\"/>\r\n      </g>\r\n     </g>\r\n    </g>\r\n    <g id=\"ytick_2\">\r\n     <g id=\"line2d_7\">\r\n      <g>\r\n       <use style=\"stroke:#000000;stroke-width:0.8;\" x=\"33.2875\" xlink:href=\"#m30d72964bb\" y=\"189.689061\"/>\r\n      </g>\r\n     </g>\r\n     <g id=\"text_7\">\r\n      <!-- 500 -->\r\n      <g transform=\"translate(7.2 193.488279)scale(0.1 -0.1)\">\r\n       <use xlink:href=\"#DejaVuSans-53\"/>\r\n       <use x=\"63.623047\" xlink:href=\"#DejaVuSans-48\"/>\r\n       <use x=\"127.246094\" xlink:href=\"#DejaVuSans-48\"/>\r\n      </g>\r\n     </g>\r\n    </g>\r\n    <g id=\"ytick_3\">\r\n     <g id=\"line2d_8\">\r\n      <g>\r\n       <use style=\"stroke:#000000;stroke-width:0.8;\" x=\"33.2875\" xlink:href=\"#m30d72964bb\" y=\"162.524216\"/>\r\n      </g>\r\n     </g>\r\n     <g id=\"text_8\">\r\n      <!-- 550 -->\r\n      <g transform=\"translate(7.2 166.323434)scale(0.1 -0.1)\">\r\n       <use xlink:href=\"#DejaVuSans-53\"/>\r\n       <use x=\"63.623047\" xlink:href=\"#DejaVuSans-53\"/>\r\n       <use x=\"127.246094\" xlink:href=\"#DejaVuSans-48\"/>\r\n      </g>\r\n     </g>\r\n    </g>\r\n    <g id=\"ytick_4\">\r\n     <g id=\"line2d_9\">\r\n      <g>\r\n       <use style=\"stroke:#000000;stroke-width:0.8;\" x=\"33.2875\" xlink:href=\"#m30d72964bb\" y=\"135.359371\"/>\r\n      </g>\r\n     </g>\r\n     <g id=\"text_9\">\r\n      <!-- 600 -->\r\n      <g transform=\"translate(7.2 139.15859)scale(0.1 -0.1)\">\r\n       <use xlink:href=\"#DejaVuSans-54\"/>\r\n       <use x=\"63.623047\" xlink:href=\"#DejaVuSans-48\"/>\r\n       <use x=\"127.246094\" xlink:href=\"#DejaVuSans-48\"/>\r\n      </g>\r\n     </g>\r\n    </g>\r\n    <g id=\"ytick_5\">\r\n     <g id=\"line2d_10\">\r\n      <g>\r\n       <use style=\"stroke:#000000;stroke-width:0.8;\" x=\"33.2875\" xlink:href=\"#m30d72964bb\" y=\"108.194526\"/>\r\n      </g>\r\n     </g>\r\n     <g id=\"text_10\">\r\n      <!-- 650 -->\r\n      <g transform=\"translate(7.2 111.993745)scale(0.1 -0.1)\">\r\n       <use xlink:href=\"#DejaVuSans-54\"/>\r\n       <use x=\"63.623047\" xlink:href=\"#DejaVuSans-53\"/>\r\n       <use x=\"127.246094\" xlink:href=\"#DejaVuSans-48\"/>\r\n      </g>\r\n     </g>\r\n    </g>\r\n    <g id=\"ytick_6\">\r\n     <g id=\"line2d_11\">\r\n      <g>\r\n       <use style=\"stroke:#000000;stroke-width:0.8;\" x=\"33.2875\" xlink:href=\"#m30d72964bb\" y=\"81.029681\"/>\r\n      </g>\r\n     </g>\r\n     <g id=\"text_11\">\r\n      <!-- 700 -->\r\n      <g transform=\"translate(7.2 84.8289)scale(0.1 -0.1)\">\r\n       <defs>\r\n        <path d=\"M 8.203125 72.90625 \r\nL 55.078125 72.90625 \r\nL 55.078125 68.703125 \r\nL 28.609375 0 \r\nL 18.3125 0 \r\nL 43.21875 64.59375 \r\nL 8.203125 64.59375 \r\nz\r\n\" id=\"DejaVuSans-55\"/>\r\n       </defs>\r\n       <use xlink:href=\"#DejaVuSans-55\"/>\r\n       <use x=\"63.623047\" xlink:href=\"#DejaVuSans-48\"/>\r\n       <use x=\"127.246094\" xlink:href=\"#DejaVuSans-48\"/>\r\n      </g>\r\n     </g>\r\n    </g>\r\n    <g id=\"ytick_7\">\r\n     <g id=\"line2d_12\">\r\n      <g>\r\n       <use style=\"stroke:#000000;stroke-width:0.8;\" x=\"33.2875\" xlink:href=\"#m30d72964bb\" y=\"53.864836\"/>\r\n      </g>\r\n     </g>\r\n     <g id=\"text_12\">\r\n      <!-- 750 -->\r\n      <g transform=\"translate(7.2 57.664055)scale(0.1 -0.1)\">\r\n       <use xlink:href=\"#DejaVuSans-55\"/>\r\n       <use x=\"63.623047\" xlink:href=\"#DejaVuSans-53\"/>\r\n       <use x=\"127.246094\" xlink:href=\"#DejaVuSans-48\"/>\r\n      </g>\r\n     </g>\r\n    </g>\r\n    <g id=\"ytick_8\">\r\n     <g id=\"line2d_13\">\r\n      <g>\r\n       <use style=\"stroke:#000000;stroke-width:0.8;\" x=\"33.2875\" xlink:href=\"#m30d72964bb\" y=\"26.699991\"/>\r\n      </g>\r\n     </g>\r\n     <g id=\"text_13\">\r\n      <!-- 800 -->\r\n      <g transform=\"translate(7.2 30.49921)scale(0.1 -0.1)\">\r\n       <use xlink:href=\"#DejaVuSans-56\"/>\r\n       <use x=\"63.623047\" xlink:href=\"#DejaVuSans-48\"/>\r\n       <use x=\"127.246094\" xlink:href=\"#DejaVuSans-48\"/>\r\n      </g>\r\n     </g>\r\n    </g>\r\n   </g>\r\n   <g id=\"line2d_14\">\r\n    <path clip-path=\"url(#pf5e5072ed5)\" d=\"M 48.505682 27.561741 \r\nL 352.869318 214.756364 \r\n\" style=\"fill:none;stroke:#ff0000;stroke-linecap:square;stroke-width:1.5;\"/>\r\n   </g>\r\n   <g id=\"patch_3\">\r\n    <path d=\"M 33.2875 224.64 \r\nL 33.2875 7.2 \r\n\" style=\"fill:none;stroke:#000000;stroke-linecap:square;stroke-linejoin:miter;stroke-width:0.8;\"/>\r\n   </g>\r\n   <g id=\"patch_4\">\r\n    <path d=\"M 368.0875 224.64 \r\nL 368.0875 7.2 \r\n\" style=\"fill:none;stroke:#000000;stroke-linecap:square;stroke-linejoin:miter;stroke-width:0.8;\"/>\r\n   </g>\r\n   <g id=\"patch_5\">\r\n    <path d=\"M 33.2875 224.64 \r\nL 368.0875 224.64 \r\n\" style=\"fill:none;stroke:#000000;stroke-linecap:square;stroke-linejoin:miter;stroke-width:0.8;\"/>\r\n   </g>\r\n   <g id=\"patch_6\">\r\n    <path d=\"M 33.2875 7.2 \r\nL 368.0875 7.2 \r\n\" style=\"fill:none;stroke:#000000;stroke-linecap:square;stroke-linejoin:miter;stroke-width:0.8;\"/>\r\n   </g>\r\n  </g>\r\n </g>\r\n <defs>\r\n  <clipPath id=\"pf5e5072ed5\">\r\n   <rect height=\"217.44\" width=\"334.8\" x=\"33.2875\" y=\"7.2\"/>\r\n  </clipPath>\r\n </defs>\r\n</svg>\r\n",
      "image/png": "[encoded data removed]"
     },
     "metadata": {
      "needs_background": "light"
     }
    }
   ],
   "source": [
    "# Plot X and y using plt.scatter\n",
    "# Plot the model fit line using [x_min[0], x_max[0]], [y_min[0], y_max[0]]\n",
    "\n",
    "\n",
    "plt.scatter(X, y, c='blue')\n",
    "plt.plot([x_min[0], x_max[0]], [y_min[0], y_max[0]], c='red')\n"
   ]
  },
  {
   "cell_type": "code",
   "execution_count": null,
   "metadata": {},
   "outputs": [],
   "source": []
  }
 ]
}